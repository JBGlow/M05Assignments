{
 "cells": [
  {
   "cell_type": "code",
   "execution_count": 12,
   "id": "9a394169",
   "metadata": {},
   "outputs": [],
   "source": [
    "assert sum([1,2,3]) == 6, \"Should be 6\"\n",
    "\n",
    "#no output, because list [1,2,3] adds up to 6"
   ]
  },
  {
   "cell_type": "code",
   "execution_count": 2,
   "id": "28f04dbc",
   "metadata": {},
   "outputs": [
    {
     "ename": "AssertionError",
     "evalue": "Should be 6",
     "output_type": "error",
     "traceback": [
      "\u001b[1;31m---------------------------------------------------------------------------\u001b[0m",
      "\u001b[1;31mAssertionError\u001b[0m                            Traceback (most recent call last)",
      "Cell \u001b[1;32mIn[2], line 1\u001b[0m\n\u001b[1;32m----> 1\u001b[0m \u001b[38;5;28;01massert\u001b[39;00m \u001b[38;5;28msum\u001b[39m([\u001b[38;5;241m1\u001b[39m,\u001b[38;5;241m1\u001b[39m,\u001b[38;5;241m1\u001b[39m]) \u001b[38;5;241m==\u001b[39m\u001b[38;5;241m6\u001b[39m, \u001b[38;5;124m\"\u001b[39m\u001b[38;5;124mShould be 6\u001b[39m\u001b[38;5;124m\"\u001b[39m\n",
      "\u001b[1;31mAssertionError\u001b[0m: Should be 6"
     ]
    }
   ],
   "source": [
    "assert sum([1,1,1]) == 6, \"Should be 6\"\n",
    "\n",
    "#assertion error, because list[1,1,1] does not add up to 6"
   ]
  },
  {
   "cell_type": "code",
   "execution_count": 6,
   "id": "185423ef",
   "metadata": {},
   "outputs": [
    {
     "name": "stdout",
     "output_type": "stream",
     "text": [
      "Everything passed\n"
     ]
    }
   ],
   "source": [
    "def test_sum():\n",
    "    assert sum([1,2,3]) == 6, \"Should be 6\"\n",
    "    \n",
    "if __name__ == \"__main__\":\n",
    "    test_sum()\n",
    "    print(\"Everything passed\")\n",
    "    \n",
    "    \n",
    "#Created a new file called test_sum.py\n",
    "#Ran $python test_sum.py in terminal\n",
    "#got message 'Everything passed'\n",
    "#same result in jupyter"
   ]
  },
  {
   "cell_type": "code",
   "execution_count": 7,
   "id": "65c2bc7a",
   "metadata": {},
   "outputs": [
    {
     "ename": "AssertionError",
     "evalue": "Should be 6",
     "output_type": "error",
     "traceback": [
      "\u001b[1;31m---------------------------------------------------------------------------\u001b[0m",
      "\u001b[1;31mAssertionError\u001b[0m                            Traceback (most recent call last)",
      "Cell \u001b[1;32mIn[7], line 9\u001b[0m\n\u001b[0;32m      7\u001b[0m \u001b[38;5;28;01mif\u001b[39;00m \u001b[38;5;18m__name__\u001b[39m \u001b[38;5;241m==\u001b[39m \u001b[38;5;124m\"\u001b[39m\u001b[38;5;124m__main__\u001b[39m\u001b[38;5;124m\"\u001b[39m:\n\u001b[0;32m      8\u001b[0m     test_sum()\n\u001b[1;32m----> 9\u001b[0m     test_sum_tuple()\n\u001b[0;32m     10\u001b[0m     \u001b[38;5;28mprint\u001b[39m(\u001b[38;5;124m\"\u001b[39m\u001b[38;5;124mEverything passed\u001b[39m\u001b[38;5;124m\"\u001b[39m)\n",
      "Cell \u001b[1;32mIn[7], line 5\u001b[0m, in \u001b[0;36mtest_sum_tuple\u001b[1;34m()\u001b[0m\n\u001b[0;32m      4\u001b[0m \u001b[38;5;28;01mdef\u001b[39;00m \u001b[38;5;21mtest_sum_tuple\u001b[39m():\n\u001b[1;32m----> 5\u001b[0m     \u001b[38;5;28;01massert\u001b[39;00m \u001b[38;5;28msum\u001b[39m((\u001b[38;5;241m1\u001b[39m,\u001b[38;5;241m2\u001b[39m,\u001b[38;5;241m2\u001b[39m)) \u001b[38;5;241m==\u001b[39m \u001b[38;5;241m6\u001b[39m, \u001b[38;5;124m\"\u001b[39m\u001b[38;5;124mShould be 6\u001b[39m\u001b[38;5;124m\"\u001b[39m\n",
      "\u001b[1;31mAssertionError\u001b[0m: Should be 6"
     ]
    }
   ],
   "source": [
    "def test_sum():\n",
    "    assert sum([1, 2, 3]) == 6, \"Should be 6\"\n",
    "    \n",
    "def test_sum_tuple():\n",
    "    assert sum((1,2,2)) == 6, \"Should be 6\"\n",
    "    \n",
    "if __name__ == \"__main__\":\n",
    "    test_sum()\n",
    "    test_sum_tuple()\n",
    "    print(\"Everything passed\")\n",
    "    \n",
    "#created a new file called test_sum2.py\n",
    "#Ran $python test_sum2.py in terminal\n",
    "#got attribute error message because tuple (1,2,2) does not add up to 6\n",
    "#same result in jupyter"
   ]
  },
  {
   "cell_type": "code",
   "execution_count": null,
   "id": "7f657560",
   "metadata": {},
   "outputs": [],
   "source": [
    "import unittest\n",
    "\n",
    "class TestSum(unittest.TestCase):\n",
    "\n",
    "    def test_sum(self):\n",
    "        self.assertEqual(sum([1,2,3]), 6, \"Should be 6\")\n",
    "    \n",
    "    def test_sum_tuple(self):\n",
    "        self.assertEqual(sum((1,2,2)), 6, \"Should be 6\")\n",
    "\n",
    "if __name__ == '__main__':\n",
    "    unittest.main()\n",
    "    \n",
    "#created a new file called test_sum_unittest.py\n",
    "#Jupyter is not compatible with unittest\n",
    "#Ran $python test_sum_unittest.py in terminal\n",
    "\n",
    "\n",
    "#Below is the result:\n",
    "\"\"\"\n",
    "[Running] python -u \"c:\\Users\\jbige\\Desktop\\SDEV220\\PythonPrograms\\M05\\test_sum_unittest.py\"\n",
    ".F\n",
    "======================================================================\n",
    "FAIL: test_sum_tuple (__main__.TestSum.test_sum_tuple)\n",
    "----------------------------------------------------------------------\n",
    "Traceback (most recent call last):\n",
    "  File \"c:\\Users\\jbige\\Desktop\\SDEV220\\PythonPrograms\\M05\\test_sum_unittest.py\", line 9, in test_sum_tuple\n",
    "    self.assertEqual(sum((1,2,2)), 6, \"Should be 6\")\n",
    "AssertionError: 5 != 6 : Should be 6\n",
    "\n",
    "----------------------------------------------------------------------\n",
    "Ran 2 tests in 0.001s\n",
    "\n",
    "FAILED (failures=1)\n",
    "\"\"\"\n",
    "\n",
    "##My Own Explanation:\n",
    "\n",
    "#ran two tests: 1 success, 1 failure\n",
    "#sum of list [1,2,3] adds up to 6, so the list test passed\n",
    "#as before, tuple (1,2,2) does not add up to 6\n",
    "#unittest gives more detailed information about tests, and has more options for testing"
   ]
  },
  {
   "cell_type": "code",
   "execution_count": 11,
   "id": "b1a6d724",
   "metadata": {},
   "outputs": [],
   "source": [
    "#for the final section: 'Executing Your First Test'\n",
    "\n",
    "#The following code was run:\n",
    "\n",
    "\n",
    "from fractions import Fraction # allows use of fractions in list format\n",
    "import unittest #module for running tests in unittest format\n",
    "\n",
    "from my_sum import sum # this imports the sum function from __init__.py, which gives us the sum value for tests\n",
    "\n",
    "class TestSum(unittest.TestCase):\n",
    "    \n",
    "    \n",
    "    def test_list_int(self): #Tests a sum of integers from a list\n",
    "        data = [1,2,3] #sample list - in a more detailed test, we may want to provide values from an imported function\n",
    "        result = sum(data) #sets result variable to the sum of the list named 'data'\n",
    "        self.assertEqual(result, 6) #checks if 'result' variable is equal to second value, 6\n",
    "\n",
    "        \n",
    "    def test_list_fraction(self): #Similar to the above function, this tests a list of fractions\n",
    "        data = [Fraction(1,4), Fraction(1,4),Fraction(2,5)]#'data' variable is set to a list of fractions\n",
    "        result = sum(data) #set 'result' variable to sum of 'data' list\n",
    "        self.assertEqual(result,1) #checks if 'result variable is equal to second value, 1\n",
    "        \n",
    "\n",
    "if __name__ == '__main__': \n",
    "    unittest.main() #runs the script\n",
    "    \n",
    "\n",
    "    \n",
    "#The following is the output of running the above script in a terminal:\n",
    "\"\"\"\n",
    "[Running] python -u \"c:\\Users\\jbige\\Desktop\\SDEV220\\PythonPrograms\\M05\\project\\test.py\"\n",
    "F.\n",
    "======================================================================\n",
    "FAIL: test_list_fraction (__main__.TestSum.test_list_fraction)\n",
    "Test that it can sum a list of fractions\n",
    "----------------------------------------------------------------------\n",
    "Traceback (most recent call last):\n",
    "  File \"c:\\Users\\jbige\\Desktop\\SDEV220\\PythonPrograms\\M05\\project\\test.py\", line 23, in test_list_fraction\n",
    "    self.assertEqual(result,1)\n",
    "AssertionError: Fraction(9, 10) != 1\n",
    "\n",
    "----------------------------------------------------------------------\n",
    "Ran 2 tests in 0.000s\n",
    "\n",
    "FAILED (failures=1)\n",
    "\"\"\"\n",
    "\n",
    "##My Own Explanation:\n",
    "#The first check for the sum of list [1,2,3] passed, because it added up to 6\n",
    "#The second value failed the test because the fraction list added up to (9,10) or nine-tenths, which does not equal 1\n",
    "#Of the two tests that were run, one failed\n",
    "\n"
   ]
  },
  {
   "cell_type": "code",
   "execution_count": null,
   "id": "da7b1a4c",
   "metadata": {},
   "outputs": [],
   "source": []
  }
 ],
 "metadata": {
  "kernelspec": {
   "display_name": "Python 3 (ipykernel)",
   "language": "python",
   "name": "python3"
  },
  "language_info": {
   "codemirror_mode": {
    "name": "ipython",
    "version": 3
   },
   "file_extension": ".py",
   "mimetype": "text/x-python",
   "name": "python",
   "nbconvert_exporter": "python",
   "pygments_lexer": "ipython3",
   "version": "3.11.5"
  }
 },
 "nbformat": 4,
 "nbformat_minor": 5
}
